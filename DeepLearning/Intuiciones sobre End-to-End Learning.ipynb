{
 "cells": [
  {
   "cell_type": "markdown",
   "metadata": {},
   "source": [
    "# Caso Práctico: Clasificación de imágenes"
   ]
  },
  {
   "cell_type": "markdown",
   "metadata": {},
   "source": [
    "## 1. Conjunto de datos"
   ]
  },
  {
   "cell_type": "code",
   "execution_count": 1,
   "metadata": {},
   "outputs": [
    {
     "name": "stderr",
     "output_type": "stream",
     "text": [
      "2023-10-31 11:37:41.889850: I tensorflow/core/platform/cpu_feature_guard.cc:182] This TensorFlow binary is optimized to use available CPU instructions in performance-critical operations.\n",
      "To enable the following instructions: SSE4.1 SSE4.2 AVX AVX2 FMA, in other operations, rebuild TensorFlow with the appropriate compiler flags.\n"
     ]
    }
   ],
   "source": [
    "from tensorflow.keras import datasets"
   ]
  },
  {
   "cell_type": "code",
   "execution_count": 2,
   "metadata": {},
   "outputs": [],
   "source": [
    "fashion_mnist = datasets.fashion_mnist"
   ]
  },
  {
   "cell_type": "code",
   "execution_count": 3,
   "metadata": {},
   "outputs": [],
   "source": [
    "(X_train, y_train), (X_test, y_test) = fashion_mnist.load_data()"
   ]
  },
  {
   "cell_type": "markdown",
   "metadata": {},
   "source": [
    "## 2. Visualización del conjunto de datos"
   ]
  },
  {
   "cell_type": "code",
   "execution_count": 4,
   "metadata": {},
   "outputs": [
    {
     "data": {
      "image/png": "[encoded data removed]",
      "text/plain": [
       "<Figure size 2000x400 with 8 Axes>"
      ]
     },
     "metadata": {},
     "output_type": "display_data"
    }
   ],
   "source": [
    "import numpy as np\n",
    "import matplotlib.pyplot as plt\n",
    "\n",
    "plt.figure(figsize=(20, 4))\n",
    "\n",
    "for index, img in zip(range(1, 9), X_train[:8]):\n",
    "    plt.subplot(1, 8, index)\n",
    "    plt.imshow(img, cmap=plt.cm.gray)\n",
    "    plt.title('Ejemplo: ' + str(index))\n",
    "plt.show()"
   ]
  },
  {
   "cell_type": "code",
   "execution_count": 5,
   "metadata": {},
   "outputs": [
    {
     "name": "stdout",
     "output_type": "stream",
     "text": [
      "Longitud subconjunto de entrenamiento:  60000\n",
      "Longitud subconjunto de pruebas:  10000\n"
     ]
    }
   ],
   "source": [
    "print(\"Longitud subconjunto de entrenamiento: \", len(X_train))\n",
    "print(\"Longitud subconjunto de pruebas: \", len(X_test))"
   ]
  },
  {
   "cell_type": "markdown",
   "metadata": {},
   "source": [
    "## 3. Transformación del conjunto de datos"
   ]
  },
  {
   "cell_type": "code",
   "execution_count": 6,
   "metadata": {},
   "outputs": [],
   "source": [
    "X_train_prep = X_train.reshape((60000, 28*28))\n",
    "X_test_prep = X_test.reshape((10000, 28*28))"
   ]
  },
  {
   "cell_type": "code",
   "execution_count": 7,
   "metadata": {},
   "outputs": [],
   "source": [
    "from sklearn.preprocessing import Normalizer\n",
    "\n",
    "transformer = Normalizer()\n",
    "X_train_prep = transformer.fit_transform(X_train_prep)\n",
    "X_test_prep = transformer.transform(X_test_prep)"
   ]
  },
  {
   "cell_type": "code",
   "execution_count": 8,
   "metadata": {},
   "outputs": [],
   "source": [
    "from tensorflow.keras.utils import to_categorical\n",
    "\n",
    "y_train_prep = to_categorical(y_train)\n",
    "y_test_prep = to_categorical(y_test)"
   ]
  },
  {
   "cell_type": "markdown",
   "metadata": {},
   "source": [
    "## 4. Construcción del modelo"
   ]
  },
  {
   "cell_type": "code",
   "execution_count": 9,
   "metadata": {},
   "outputs": [],
   "source": [
    "from tensorflow.keras import models\n",
    "from tensorflow.keras import layers\n",
    "\n",
    "network = models.Sequential()\n",
    "\n",
    "network.add(layers.Dense(300, activation='relu', input_shape=(28*28,)))\n",
    "network.add(layers.Dense(100, activation='relu'))\n",
    "network.add(layers.Dense(10, activation='softmax'))"
   ]
  },
  {
   "cell_type": "code",
   "execution_count": 10,
   "metadata": {},
   "outputs": [],
   "source": [
    "network.compile(loss='categorical_crossentropy',\n",
    "                optimizer='adam',\n",
    "                metrics=['accuracy', 'Precision'])"
   ]
  },
  {
   "cell_type": "code",
   "execution_count": 11,
   "metadata": {},
   "outputs": [
    {
     "name": "stdout",
     "output_type": "stream",
     "text": [
      "Epoch 1/15\n",
      "1875/1875 [==============================] - 8s 4ms/step - loss: 0.5124 - accuracy: 0.8145 - precision: 0.8680 - val_loss: 0.4194 - val_accuracy: 0.8498 - val_precision: 0.8799\n",
      "Epoch 2/15\n",
      "1875/1875 [==============================] - 10s 5ms/step - loss: 0.3668 - accuracy: 0.8659 - precision: 0.8924 - val_loss: 0.3968 - val_accuracy: 0.8541 - val_precision: 0.8778\n",
      "Epoch 3/15\n",
      "1875/1875 [==============================] - 13s 7ms/step - loss: 0.3302 - accuracy: 0.8778 - precision: 0.8999 - val_loss: 0.3608 - val_accuracy: 0.8677 - val_precision: 0.8948\n",
      "Epoch 4/15\n",
      "1875/1875 [==============================] - 15s 8ms/step - loss: 0.3053 - accuracy: 0.8861 - precision: 0.9063 - val_loss: 0.3539 - val_accuracy: 0.8698 - val_precision: 0.8912\n",
      "Epoch 5/15\n",
      "1875/1875 [==============================] - 17s 9ms/step - loss: 0.2855 - accuracy: 0.8936 - precision: 0.9125 - val_loss: 0.3451 - val_accuracy: 0.8753 - val_precision: 0.8928\n",
      "Epoch 6/15\n",
      "1875/1875 [==============================] - 18s 10ms/step - loss: 0.2710 - accuracy: 0.8993 - precision: 0.9159 - val_loss: 0.3252 - val_accuracy: 0.8845 - val_precision: 0.9021\n",
      "Epoch 7/15\n",
      "1875/1875 [==============================] - 18s 10ms/step - loss: 0.2576 - accuracy: 0.9034 - precision: 0.9186 - val_loss: 0.3244 - val_accuracy: 0.8814 - val_precision: 0.8981\n",
      "Epoch 8/15\n",
      "1875/1875 [==============================] - 18s 9ms/step - loss: 0.2453 - accuracy: 0.9087 - precision: 0.9234 - val_loss: 0.3334 - val_accuracy: 0.8770 - val_precision: 0.8929\n",
      "Epoch 9/15\n",
      "1875/1875 [==============================] - 17s 9ms/step - loss: 0.2346 - accuracy: 0.9114 - precision: 0.9252 - val_loss: 0.3289 - val_accuracy: 0.8845 - val_precision: 0.8996\n",
      "Epoch 10/15\n",
      "1875/1875 [==============================] - 18s 9ms/step - loss: 0.2248 - accuracy: 0.9158 - precision: 0.9275 - val_loss: 0.3236 - val_accuracy: 0.8850 - val_precision: 0.9005\n",
      "Epoch 11/15\n",
      "1875/1875 [==============================] - 19s 10ms/step - loss: 0.2161 - accuracy: 0.9187 - precision: 0.9305 - val_loss: 0.3141 - val_accuracy: 0.8915 - val_precision: 0.9045\n",
      "Epoch 12/15\n",
      "1875/1875 [==============================] - 18s 10ms/step - loss: 0.2085 - accuracy: 0.9196 - precision: 0.9315 - val_loss: 0.3199 - val_accuracy: 0.8881 - val_precision: 0.9028\n",
      "Epoch 13/15\n",
      "1875/1875 [==============================] - 17s 9ms/step - loss: 0.1963 - accuracy: 0.9268 - precision: 0.9359 - val_loss: 0.3143 - val_accuracy: 0.8935 - val_precision: 0.9053\n",
      "Epoch 14/15\n",
      "1875/1875 [==============================] - 18s 9ms/step - loss: 0.1918 - accuracy: 0.9269 - precision: 0.9363 - val_loss: 0.3161 - val_accuracy: 0.8943 - val_precision: 0.9065\n",
      "Epoch 15/15\n",
      "1875/1875 [==============================] - 18s 10ms/step - loss: 0.1837 - accuracy: 0.9308 - precision: 0.9395 - val_loss: 0.3434 - val_accuracy: 0.8842 - val_precision: 0.8962\n"
     ]
    }
   ],
   "source": [
    "history = network.fit(X_train_prep, \n",
    "                      y_train_prep,\n",
    "                      batch_size=32,\n",
    "                      epochs=15, \n",
    "                      validation_data=(X_test_prep, y_test_prep))"
   ]
  },
  {
   "cell_type": "code",
   "execution_count": null,
   "metadata": {},
   "outputs": [],
   "source": []
  },
  {
   "cell_type": "code",
   "execution_count": null,
   "metadata": {},
   "outputs": [],
   "source": []
  }
 ],
 "metadata": {
  "kernelspec": {
   "display_name": "Python 3 (ipykernel)",
   "language": "python",
   "name": "python3"
  },
  "language_info": {
   "codemirror_mode": {
    "name": "ipython",
    "version": 3
   },
   "file_extension": ".py",
   "mimetype": "text/x-python",
   "name": "python",
   "nbconvert_exporter": "python",
   "pygments_lexer": "ipython3",
   "version": "3.11.5"
  }
 },
 "nbformat": 4,
 "nbformat_minor": 4
}
