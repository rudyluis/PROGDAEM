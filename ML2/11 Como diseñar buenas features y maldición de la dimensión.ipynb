{
 "cells": [
  {
   "cell_type": "markdown",
   "metadata": {},
   "source": [
    "<div class=\"alert alert-success\">\n",
    "  Mejorar la performance de nuestros modelos no solo pasa por optimizar sus parametros. \n",
    "  <br>Una de las partes clave, y según algunos expertos la más importante, es la de **diseñar la representación en la que se entregan los datos a los modelos** para que estos los procesen. <br>\n",
    "  Esto equivale, en palabras más simples, en definir de forma inteligente las features (columnas) de nuestras tablas de datos.\n",
    "            </div>"
   ]
  },
  {
   "cell_type": "markdown",
   "metadata": {},
   "source": [
    "**Ejemplo de feature engineering:**\n",
    "\n",
    "*El problema*:\n",
    "    \n",
    "Supongamos que estamos tratando de resolver el problema siguiente.\n",
    "\n",
    "- Tenemos un problema de reconocer si ciertos datos con una sola feature son de una clase 1 o de una clase 2 (por ejemplo \"el producto esta deficiente\" o \"el producto esta funcional\").\n",
    "- Por lo tanto estamos resolviendo una **clasificación**.\n",
    "- Para esta clasificación decidimos tomar un SVM, que es un modelo poderoso que funciona buscando la \"mejor\" recta que separa los puntos de cada clase.\n",
    "\n",
    "<img src=\"img/classif_1_feature.png\">\n",
    "\n",
    "*Como podemos ver no existe un separador óptimo. Debemos para resolver el problema buscar un modelo aún más poderoso? No necesariamente.*"
   ]
  },
  {
   "cell_type": "markdown",
   "metadata": {},
   "source": [
    "**Agregemos una nueva feature: $$X[columna_2] = X[columna_1]^2$$**\n",
    "\n",
    "<img src=\"img/classif_2_features.png\">\n",
    "\n",
    "*Claramente con esta nueva feature vemos que existe una recta que separa los espacios de puntos. <br>\n",
    "Esta recta tendra un score ampliamente mejor que cualquier solucion al primer problema.*"
   ]
  },
  {
   "cell_type": "markdown",
   "metadata": {},
   "source": [
    "## Principios de diseño de Features"
   ]
  },
  {
   "cell_type": "markdown",
   "metadata": {},
   "source": [
    "<div class=\"alert alert-success\">\n",
    "  Diseñar tus features es un arte más que una ciencia (por lo que en general te recomendamos ganar experiencia leyendo articulos cientificos y viendo soluciones\n",
    "  <ol>\n",
    "    <li> <strong>Features Informativas</strong>: Tus features son más utiles mientras más correlación tengan tu variable objetivo.</li>\n",
    "  <li> <strong>Features Independientes</strong>: Para no tener redudancias tus features deberían ser lo más independientes posible entre ellas.</li>\n",
    "    <li> <strong>Cantidad de Features controlada</strong>: Nuestra intuición nos falla en dimensiones superiores a 3 (ver video maldicion de la dimensionalidad). En la mayoría de los casos aumentar la cantidad de features afecta negativamente la performance si no contamos con una gran cantidad de datos. Por ultimo pocas features aseguran una mejor interpretabilidad de los modelos</li>\n",
    "  </ol>\n",
    "</div>"
   ]
  },
  {
   "cell_type": "markdown",
   "metadata": {},
   "source": [
    "**Ejemplo de Feature informativa y Feature no informativa**"
   ]
  },
  {
   "cell_type": "markdown",
   "metadata": {},
   "source": [
    "<span style=\"color:green\"> Predecir el **precio de una casa** en **función de sus metros cuadrados**.</span> <br>\n",
    "\n",
    "<span style=\"color:red\"> Predecir el **precio de una casa** en **función de la temperatura del mar**.</span>\n"
   ]
  },
  {
   "cell_type": "markdown",
   "metadata": {},
   "source": [
    "Es importante entender la correlación entre la feature y la variable objetivo. Más sobre esto en los siguientes videos."
   ]
  },
  {
   "cell_type": "markdown",
   "metadata": {},
   "source": [
    "**Visualizar interdepencia entre variables**"
   ]
  },
  {
   "cell_type": "code",
   "execution_count": 4,
   "metadata": {},
   "outputs": [],
   "source": [
    "import pandas as pd\n",
    "X = pd.read_csv('../vol/intermediate_results/X.csv').drop('worldwide_gross',axis=1)"
   ]
  },
  {
   "cell_type": "code",
   "execution_count": 6,
   "metadata": {},
   "outputs": [
    {
     "data": {
      "text/plain": [
       "<matplotlib.axes._subplots.AxesSubplot at 0x7f4ff97f7198>"
      ]
     },
     "execution_count": 6,
     "metadata": {},
     "output_type": "execute_result"
    },
    {
     "data": {
      "image/png": "[encoded data removed]",
      "text/plain": [
       "<matplotlib.figure.Figure at 0x7f4ff97f7f28>"
      ]
     },
     "metadata": {},
     "output_type": "display_data"
    }
   ],
   "source": [
    "import seaborn as sns\n",
    "%matplotlib inline \n",
    "\n",
    "sns.heatmap(X.corr())"
   ]
  },
  {
   "cell_type": "markdown",
   "metadata": {},
   "source": [
    "## La maldición de la dimensión"
   ]
  },
  {
   "cell_type": "markdown",
   "metadata": {},
   "source": [
    "---\n",
    "\n",
    "*Datasaurus Dozen y Anscombe's quartet:* \n",
    "\n",
    "Utilidad de la capacidad de entender los datos en 1, 2 y 3 dimensiones del ojo humano.\n",
    "\n",
    "*Maldición de la dimensionalidad*:\n",
    "\n",
    "En **dimensión superior o igual a 4**, nuestra capacidad de entender los datos se pierde, **y aún peor fenomenos extraños/contraproducentes ocurren**\n",
    "\n",
    "---\n",
    "\n"
   ]
  },
  {
   "cell_type": "markdown",
   "metadata": {},
   "source": [
    "** Ejemplo 1**\n",
    "\n",
    "Que largo debe tener cada arista de un hypercubo de dimension p que capture 10% del volumen de un hypercubo de volumen 1 que lo contiene?"
   ]
  },
  {
   "cell_type": "markdown",
   "metadata": {},
   "source": [
    "<img src=\"img/cube.png\">"
   ]
  },
  {
   "cell_type": "markdown",
   "metadata": {},
   "source": [
    "$$ V_{hypercubo} = a^p\\ y\\ si\\ V_{hypercubo} = 0.1 \\implies a = 0.1^{1/p}$$\n",
    "$$$$"
   ]
  },
  {
   "cell_type": "code",
   "execution_count": 7,
   "metadata": {},
   "outputs": [
    {
     "data": {
      "text/plain": [
       "[<matplotlib.lines.Line2D at 0x7f4ff5e73438>]"
      ]
     },
     "execution_count": 7,
     "metadata": {},
     "output_type": "execute_result"
    },
    {
     "data": {
      "image/png": "[encoded data removed]",
      "text/plain": [
       "<matplotlib.figure.Figure at 0x7f4ff97b81d0>"
      ]
     },
     "metadata": {},
     "output_type": "display_data"
    }
   ],
   "source": [
    "import matplotlib.pyplot as plt\n",
    "import numpy as np\n",
    "\n",
    "x = np.arange(1,15)\n",
    "y = np.power(0.1,1/x)\n",
    "plt.plot(x,y)"
   ]
  },
  {
   "cell_type": "markdown",
   "metadata": {},
   "source": [
    "**En dimensión 10**: Necesitamos un hypercubo que cubra 80% de cada una de las aristas para solamente obtener 10% del volumen!"
   ]
  },
  {
   "cell_type": "markdown",
   "metadata": {},
   "source": [
    "<div class=\"alert alert-success\">\n",
    "  En alta dimensión es muy poco probable que tus ejemplos cubran todo el espacio de forma densa. <br>\n",
    "  Por ende en **alta dimensión necesitas una cantidad de datos que crece exponencialmente para poder entrenar tus modelos**. <br>\n",
    "  Te recomendamos tener cuidado al aumentar la dimensión de tus datos, no esta prohibido, pero hacerlo de forma exagerada te puede llevar hacia estos problemas.\n",
    "</div>"
   ]
  }
 ],
 "metadata": {
  "kernelspec": {
   "display_name": "Python 3",
   "language": "python",
   "name": "python3"
  },
  "language_info": {
   "codemirror_mode": {
    "name": "ipython",
    "version": 3
   },
   "file_extension": ".py",
   "mimetype": "text/x-python",
   "name": "python",
   "nbconvert_exporter": "python",
   "pygments_lexer": "ipython3",
   "version": "3.6.0"
  }
 },
 "nbformat": 4,
 "nbformat_minor": 2
}
