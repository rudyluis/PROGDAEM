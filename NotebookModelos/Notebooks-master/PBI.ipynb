{
 "cells": [
  {
   "cell_type": "code",
   "execution_count": 2,
   "metadata": {},
   "outputs": [],
   "source": [
    "import pandas as pd\n",
    "import numpy as np\n",
    "import matplotlib.pyplot as plt\n",
    "%matplotlib inline\n",
    "import quantecon as qe\n",
    "import statsmodels.api as sm"
   ]
  },
  {
   "cell_type": "code",
   "execution_count": 3,
   "metadata": {},
   "outputs": [],
   "source": [
    "pbi = pd.read_stata('/home/alvin/Desktop/Python/pbi.dta',convert_dates=True, index_col='Year')"
   ]
  },
  {
   "cell_type": "code",
   "execution_count": null,
   "metadata": {},
   "outputs": [],
   "source": []
  },
  {
   "cell_type": "code",
   "execution_count": 4,
   "metadata": {},
   "outputs": [],
   "source": [
    "# fix the index to date \n",
    "date = pd.date_range(start='01/01/1950', end='01/01/2020', freq='Y')\n",
    "pbi.index = date"
   ]
  },
  {
   "cell_type": "code",
   "execution_count": 5,
   "metadata": {},
   "outputs": [],
   "source": [
    "pbi = pbi.drop(['dpbi','res','cre','d1','d2','cre1','cre2','crefin'], axis=1)"
   ]
  },
  {
   "cell_type": "code",
   "execution_count": 6,
   "metadata": {},
   "outputs": [],
   "source": [
    "pbi['log_pbi'] = np.log(pbi['pbi'])"
   ]
  },
  {
   "cell_type": "code",
   "execution_count": 7,
   "metadata": {},
   "outputs": [],
   "source": [
    "pbi['log_pbi_diff'] = pbi.log_pbi - pbi.log_pbi.shift(periods=1)"
   ]
  },
  {
   "cell_type": "code",
   "execution_count": 8,
   "metadata": {},
   "outputs": [
    {
     "data": {
      "text/html": [
       "<div>\n",
       "<style scoped>\n",
       "    .dataframe tbody tr th:only-of-type {\n",
       "        vertical-align: middle;\n",
       "    }\n",
       "\n",
       "    .dataframe tbody tr th {\n",
       "        vertical-align: top;\n",
       "    }\n",
       "\n",
       "    .dataframe thead th {\n",
       "        text-align: right;\n",
       "    }\n",
       "</style>\n",
       "<table border=\"1\" class=\"dataframe\">\n",
       "  <thead>\n",
       "    <tr style=\"text-align: right;\">\n",
       "      <th></th>\n",
       "      <th>pbi</th>\n",
       "      <th>lpbi</th>\n",
       "      <th>dlpbi</th>\n",
       "      <th>log_pbi</th>\n",
       "      <th>log_pbi_diff</th>\n",
       "    </tr>\n",
       "  </thead>\n",
       "  <tbody>\n",
       "    <tr>\n",
       "      <th>1950-12-31</th>\n",
       "      <td>40920.0000</td>\n",
       "      <td>10.619374</td>\n",
       "      <td>NaN</td>\n",
       "      <td>10.619374</td>\n",
       "      <td>NaN</td>\n",
       "    </tr>\n",
       "    <tr>\n",
       "      <th>1951-12-31</th>\n",
       "      <td>44711.0000</td>\n",
       "      <td>10.707974</td>\n",
       "      <td>0.088600</td>\n",
       "      <td>10.707975</td>\n",
       "      <td>0.088601</td>\n",
       "    </tr>\n",
       "    <tr>\n",
       "      <th>1952-12-31</th>\n",
       "      <td>47347.0000</td>\n",
       "      <td>10.765259</td>\n",
       "      <td>0.057284</td>\n",
       "      <td>10.765259</td>\n",
       "      <td>0.057284</td>\n",
       "    </tr>\n",
       "    <tr>\n",
       "      <th>1953-12-31</th>\n",
       "      <td>50085.0000</td>\n",
       "      <td>10.821477</td>\n",
       "      <td>0.056218</td>\n",
       "      <td>10.821477</td>\n",
       "      <td>0.056218</td>\n",
       "    </tr>\n",
       "    <tr>\n",
       "      <th>1954-12-31</th>\n",
       "      <td>52762.0000</td>\n",
       "      <td>10.873547</td>\n",
       "      <td>0.052070</td>\n",
       "      <td>10.873547</td>\n",
       "      <td>0.052070</td>\n",
       "    </tr>\n",
       "    <tr>\n",
       "      <th>...</th>\n",
       "      <td>...</td>\n",
       "      <td>...</td>\n",
       "      <td>...</td>\n",
       "      <td>...</td>\n",
       "      <td>...</td>\n",
       "    </tr>\n",
       "    <tr>\n",
       "      <th>2015-12-31</th>\n",
       "      <td>482676.3782</td>\n",
       "      <td>13.087102</td>\n",
       "      <td>0.032211</td>\n",
       "      <td>13.087102</td>\n",
       "      <td>0.032211</td>\n",
       "    </tr>\n",
       "    <tr>\n",
       "      <th>2016-12-31</th>\n",
       "      <td>502224.7398</td>\n",
       "      <td>13.126803</td>\n",
       "      <td>0.039701</td>\n",
       "      <td>13.126803</td>\n",
       "      <td>0.039701</td>\n",
       "    </tr>\n",
       "    <tr>\n",
       "      <th>2017-12-31</th>\n",
       "      <td>514655.0361</td>\n",
       "      <td>13.151252</td>\n",
       "      <td>0.024448</td>\n",
       "      <td>13.151252</td>\n",
       "      <td>0.024449</td>\n",
       "    </tr>\n",
       "    <tr>\n",
       "      <th>2018-12-31</th>\n",
       "      <td>535082.8791</td>\n",
       "      <td>13.190177</td>\n",
       "      <td>0.038925</td>\n",
       "      <td>13.190177</td>\n",
       "      <td>0.038925</td>\n",
       "    </tr>\n",
       "    <tr>\n",
       "      <th>2019-12-31</th>\n",
       "      <td>546650.3699</td>\n",
       "      <td>13.211565</td>\n",
       "      <td>0.021388</td>\n",
       "      <td>13.211565</td>\n",
       "      <td>0.021388</td>\n",
       "    </tr>\n",
       "  </tbody>\n",
       "</table>\n",
       "<p>70 rows × 5 columns</p>\n",
       "</div>"
      ],
      "text/plain": [
       "                    pbi       lpbi     dlpbi    log_pbi  log_pbi_diff\n",
       "1950-12-31   40920.0000  10.619374       NaN  10.619374           NaN\n",
       "1951-12-31   44711.0000  10.707974  0.088600  10.707975      0.088601\n",
       "1952-12-31   47347.0000  10.765259  0.057284  10.765259      0.057284\n",
       "1953-12-31   50085.0000  10.821477  0.056218  10.821477      0.056218\n",
       "1954-12-31   52762.0000  10.873547  0.052070  10.873547      0.052070\n",
       "...                 ...        ...       ...        ...           ...\n",
       "2015-12-31  482676.3782  13.087102  0.032211  13.087102      0.032211\n",
       "2016-12-31  502224.7398  13.126803  0.039701  13.126803      0.039701\n",
       "2017-12-31  514655.0361  13.151252  0.024448  13.151252      0.024449\n",
       "2018-12-31  535082.8791  13.190177  0.038925  13.190177      0.038925\n",
       "2019-12-31  546650.3699  13.211565  0.021388  13.211565      0.021388\n",
       "\n",
       "[70 rows x 5 columns]"
      ]
     },
     "execution_count": 8,
     "metadata": {},
     "output_type": "execute_result"
    }
   ],
   "source": [
    "pbi"
   ]
  },
  {
   "cell_type": "code",
   "execution_count": 9,
   "metadata": {},
   "outputs": [
    {
     "data": {
      "image/png": "[encoded data removed]",
      "text/plain": [
       "<Figure size 432x288 with 1 Axes>"
      ]
     },
     "metadata": {
      "needs_background": "light"
     },
     "output_type": "display_data"
    }
   ],
   "source": [
    "plt.plot(pbi.pbi);\n"
   ]
  },
  {
   "cell_type": "code",
   "execution_count": 10,
   "metadata": {},
   "outputs": [
    {
     "data": {
      "image/png": "[encoded data removed]",
      "text/plain": [
       "<Figure size 432x288 with 1 Axes>"
      ]
     },
     "metadata": {
      "needs_background": "light"
     },
     "output_type": "display_data"
    }
   ],
   "source": [
    "plt.plot(pbi.log_pbi);\n"
   ]
  },
  {
   "cell_type": "code",
   "execution_count": 11,
   "metadata": {},
   "outputs": [
    {
     "data": {
      "image/png": "[encoded data removed]",
      "text/plain": [
       "<Figure size 432x288 with 1 Axes>"
      ]
     },
     "metadata": {
      "needs_background": "light"
     },
     "output_type": "display_data"
    }
   ],
   "source": [
    "plt.plot(pbi.log_pbi_diff);\n"
   ]
  },
  {
   "cell_type": "code",
   "execution_count": 12,
   "metadata": {},
   "outputs": [
    {
     "data": {
      "image/png": "[encoded data removed]",
      "text/plain": [
       "<Figure size 864x288 with 2 Axes>"
      ]
     },
     "metadata": {
      "needs_background": "light"
     },
     "output_type": "display_data"
    }
   ],
   "source": [
    "fig,(ax1,ax2) = plt.subplots(1,2,figsize=(12,4))\n",
    "\n",
    "# ACF chart\n",
    "fig = sm.graphics.tsa.plot_acf(pbi.log_pbi_diff.dropna(), ax=ax1)\n",
    "# PACF chart\n",
    "fig = sm.graphics.tsa.plot_pacf(pbi.log_pbi_diff.dropna(), ax=ax2)\n",
    "# ignorar el primero"
   ]
  },
  {
   "cell_type": "code",
   "execution_count": 13,
   "metadata": {},
   "outputs": [],
   "source": [
    "from statsmodels.tsa.arima_model import ARMA"
   ]
  },
  {
   "cell_type": "code",
   "execution_count": 16,
   "metadata": {},
   "outputs": [
    {
     "name": "stdout",
     "output_type": "stream",
     "text": [
      "                              ARMA Model Results                              \n",
      "==============================================================================\n",
      "Dep. Variable:           log_pbi_diff   No. Observations:                   69\n",
      "Model:                     ARMA(1, 0)   Log Likelihood                 123.105\n",
      "Method:                       css-mle   S.D. of innovations              0.041\n",
      "Date:                Sun, 31 May 2020   AIC                           -240.211\n",
      "Time:                        09:09:21   BIC                           -233.509\n",
      "Sample:                    12-31-1951   HQIC                          -237.552\n",
      "                         - 12-31-2019                                         \n",
      "======================================================================================\n",
      "                         coef    std err          z      P>|z|      [0.025      0.975]\n",
      "--------------------------------------------------------------------------------------\n",
      "const                  0.0379      0.008      4.549      0.000       0.022       0.054\n",
      "ar.L1.log_pbi_diff     0.4200      0.109      3.848      0.000       0.206       0.634\n",
      "                                    Roots                                    \n",
      "=============================================================================\n",
      "                  Real          Imaginary           Modulus         Frequency\n",
      "-----------------------------------------------------------------------------\n",
      "AR.1            2.3807           +0.0000j            2.3807            0.0000\n",
      "-----------------------------------------------------------------------------\n"
     ]
    }
   ],
   "source": [
    "mod = ARMA(pbi.log_pbi_diff.dropna(), order=(1,0))\n",
    "result = mod.fit()\n",
    "print(result.summary())"
   ]
  },
  {
   "cell_type": "code",
   "execution_count": 17,
   "metadata": {},
   "outputs": [
    {
     "data": {
      "image/png": "[encoded data removed]",
      "text/plain": [
       "<Figure size 864x288 with 2 Axes>"
      ]
     },
     "metadata": {
      "needs_background": "light"
     },
     "output_type": "display_data"
    }
   ],
   "source": [
    "# Gráfica de los residuos\n",
    "fig,(ax1,ax2) = plt.subplots(1,2,figsize=(12,4))\n",
    "\n",
    "# ACF chart\n",
    "fig = sm.graphics.tsa.plot_acf(result.resid.dropna(), ax=ax1)\n",
    "# PACF chart\n",
    "fig = sm.graphics.tsa.plot_pacf(result.resid.dropna(), ax=ax2)\n",
    "# ignorar el primero"
   ]
  },
  {
   "cell_type": "code",
   "execution_count": 60,
   "metadata": {},
   "outputs": [],
   "source": [
    "# le aplica al PBI original no al de diferencias\n",
    "\n",
    "\n",
    "\n"
   ]
  },
  {
   "cell_type": "code",
   "execution_count": 64,
   "metadata": {},
   "outputs": [
    {
     "name": "stdout",
     "output_type": "stream",
     "text": [
      "ADF Statistic: 2.366505\n",
      "p-value: 2.366505\n",
      "Critical Values:\n",
      "\t1%: -3.530\n",
      "\t5%: -2.905\n",
      "\t10%: -2.590\n",
      "Failed to Reject Ho - Times series Non-Stationary\n"
     ]
    }
   ],
   "source": [
    "a = sm.tsa.stattools.adfuller(pbi.pbi.dropna(), regression='c')\n",
    "print('ADF Statistic: %f' % a[0])\n",
    "print('p-value: %f' % a[0])\n",
    "print('Critical Values:')\n",
    "for key, value in a[4].items():\n",
    "    print('\\t%s: %.3f' % (key,value))\n",
    "    \n",
    "if a[0] < a[4]['5%']:\n",
    "    print('Reject Ho - Time series is Stationary')\n",
    "else:\n",
    "    print('Failed to Reject Ho - Times series Non-Stationary')\n",
    "    \n",
    "# avergiguar cómo saber cuándo quitar la tendencia y la constante a la prueba"
   ]
  },
  {
   "cell_type": "code",
   "execution_count": 68,
   "metadata": {},
   "outputs": [
    {
     "name": "stdout",
     "output_type": "stream",
     "text": [
      "ADF Statistic: 0.357788\n",
      "p-value: 0.357788\n",
      "Critical Values:\n",
      "\t1%: -4.098\n",
      "\t5%: -3.477\n",
      "\t10%: -3.166\n",
      "Failed to Reject Ho - Times series Non-Stationary\n"
     ]
    }
   ],
   "source": [
    "a = sm.tsa.stattools.adfuller(pbi.pbi.dropna(), regression='ct')\n",
    "print('ADF Statistic: %f' % a[0])\n",
    "print('p-value: %f' % a[0])\n",
    "print('Critical Values:')\n",
    "for key, value in a[4].items():\n",
    "    print('\\t%s: %.3f' % (key,value))\n",
    "    \n",
    "if a[0] < a[4]['5%']:\n",
    "    print('Reject Ho - Time series is Stationary')\n",
    "else:\n",
    "    print('Failed to Reject Ho - Times series Non-Stationary')"
   ]
  },
  {
   "cell_type": "code",
   "execution_count": 66,
   "metadata": {},
   "outputs": [
    {
     "name": "stdout",
     "output_type": "stream",
     "text": [
      "ADF Statistic: 3.628540\n",
      "p-value: 3.628540\n",
      "Critical Values:\n",
      "\t1%: -2.599\n",
      "\t5%: -1.946\n",
      "\t10%: -1.613\n",
      "Failed to Reject Ho - Times series Non-Stationary\n"
     ]
    }
   ],
   "source": [
    "a = sm.tsa.stattools.adfuller(pbi.pbi.dropna(), regression='nc')\n",
    "print('ADF Statistic: %f' % a[0])\n",
    "print('p-value: %f' % a[0])\n",
    "print('Critical Values:')\n",
    "for key, value in a[4].items():\n",
    "    print('\\t%s: %.3f' % (key,value))\n",
    "    \n",
    "if a[0] < a[4]['5%']:\n",
    "    print('Reject Ho - Time series is Stationary')\n",
    "else:\n",
    "    print('Failed to Reject Ho - Times series Non-Stationary')\n",
    "    \n",
    "# avergiguar cómo saber cuándo quitar la tendencia y la constante a la prueba"
   ]
  },
  {
   "cell_type": "code",
   "execution_count": 69,
   "metadata": {},
   "outputs": [
    {
     "name": "stdout",
     "output_type": "stream",
     "text": [
      "ADF Statistic: -5.433338\n",
      "p-value: -5.433338\n",
      "Critical Values:\n",
      "\t1%: -4.553\n",
      "\t5%: -3.924\n",
      "\t10%: -3.609\n",
      "Reject Ho - Time series is Stationary\n"
     ]
    }
   ],
   "source": [
    "a = sm.tsa.stattools.adfuller(pbi.log_pbi_diff.dropna(), regression='ctt')\n",
    "print('ADF Statistic: %f' % a[0])\n",
    "print('p-value: %f' % a[0])\n",
    "print('Critical Values:')\n",
    "for key, value in a[4].items():\n",
    "    print('\\t%s: %.3f' % (key,value))\n",
    "    \n",
    "if a[0] < a[4]['5%']:\n",
    "    print('Reject Ho - Time series is Stationary')\n",
    "else:\n",
    "    print('Failed to Reject Ho - Times series Non-Stationary')\n",
    "    \n",
    "# avergiguar cómo saber cuándo quitar la tendencia y la constante a la prueba"
   ]
  },
  {
   "cell_type": "code",
   "execution_count": null,
   "metadata": {},
   "outputs": [],
   "source": []
  }
 ],
 "metadata": {
  "kernelspec": {
   "display_name": "Python 3",
   "language": "python",
   "name": "python3"
  },
  "language_info": {
   "codemirror_mode": {
    "name": "ipython",
    "version": 3
   },
   "file_extension": ".py",
   "mimetype": "text/x-python",
   "name": "python",
   "nbconvert_exporter": "python",
   "pygments_lexer": "ipython3",
   "version": "3.8.2"
  }
 },
 "nbformat": 4,
 "nbformat_minor": 4
}
