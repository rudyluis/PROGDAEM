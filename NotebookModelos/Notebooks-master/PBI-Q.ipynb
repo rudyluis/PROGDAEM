{
 "cells": [
  {
   "cell_type": "code",
   "execution_count": 2,
   "metadata": {},
   "outputs": [],
   "source": [
    "import pandas as pd\n",
    "import numpy as np\n",
    "import matplotlib.pyplot as plt\n",
    "%matplotlib inline\n",
    "import quantecon as qe\n",
    "import statsmodels.api as sm"
   ]
  },
  {
   "cell_type": "code",
   "execution_count": 3,
   "metadata": {},
   "outputs": [
    {
     "data": {
      "text/html": [
       "<div>\n",
       "<style scoped>\n",
       "    .dataframe tbody tr th:only-of-type {\n",
       "        vertical-align: middle;\n",
       "    }\n",
       "\n",
       "    .dataframe tbody tr th {\n",
       "        vertical-align: top;\n",
       "    }\n",
       "\n",
       "    .dataframe thead th {\n",
       "        text-align: right;\n",
       "    }\n",
       "</style>\n",
       "<table border=\"1\" class=\"dataframe\">\n",
       "  <thead>\n",
       "    <tr style=\"text-align: right;\">\n",
       "      <th></th>\n",
       "      <th>pbi</th>\n",
       "      <th>t</th>\n",
       "      <th>time</th>\n",
       "      <th>t2</th>\n",
       "      <th>t3</th>\n",
       "      <th>t4</th>\n",
       "      <th>y</th>\n",
       "      <th>lpbi</th>\n",
       "      <th>dlpbi</th>\n",
       "      <th>dlpbi4</th>\n",
       "      <th>res_ar1</th>\n",
       "      <th>res_ar2</th>\n",
       "      <th>res_arma11</th>\n",
       "      <th>res_ar124ma1</th>\n",
       "      <th>res_ar12ma4</th>\n",
       "    </tr>\n",
       "  </thead>\n",
       "  <tbody>\n",
       "    <tr>\n",
       "      <th>0</th>\n",
       "      <td>36357.476562</td>\n",
       "      <td>1</td>\n",
       "      <td>1980-01-01</td>\n",
       "      <td>1.0</td>\n",
       "      <td>1.0</td>\n",
       "      <td>1.0</td>\n",
       "      <td>0.0</td>\n",
       "      <td>10.501155</td>\n",
       "      <td>NaN</td>\n",
       "      <td>NaN</td>\n",
       "      <td>NaN</td>\n",
       "      <td>NaN</td>\n",
       "      <td>NaN</td>\n",
       "      <td>NaN</td>\n",
       "      <td>NaN</td>\n",
       "    </tr>\n",
       "    <tr>\n",
       "      <th>1</th>\n",
       "      <td>43102.109375</td>\n",
       "      <td>2</td>\n",
       "      <td>1980-04-01</td>\n",
       "      <td>4.0</td>\n",
       "      <td>8.0</td>\n",
       "      <td>16.0</td>\n",
       "      <td>0.0</td>\n",
       "      <td>10.671328</td>\n",
       "      <td>0.170172</td>\n",
       "      <td>NaN</td>\n",
       "      <td>NaN</td>\n",
       "      <td>NaN</td>\n",
       "      <td>NaN</td>\n",
       "      <td>NaN</td>\n",
       "      <td>NaN</td>\n",
       "    </tr>\n",
       "    <tr>\n",
       "      <th>2</th>\n",
       "      <td>42344.484375</td>\n",
       "      <td>3</td>\n",
       "      <td>1980-07-01</td>\n",
       "      <td>9.0</td>\n",
       "      <td>27.0</td>\n",
       "      <td>81.0</td>\n",
       "      <td>0.0</td>\n",
       "      <td>10.653593</td>\n",
       "      <td>-0.017734</td>\n",
       "      <td>NaN</td>\n",
       "      <td>NaN</td>\n",
       "      <td>NaN</td>\n",
       "      <td>NaN</td>\n",
       "      <td>NaN</td>\n",
       "      <td>NaN</td>\n",
       "    </tr>\n",
       "    <tr>\n",
       "      <th>3</th>\n",
       "      <td>45791.929688</td>\n",
       "      <td>4</td>\n",
       "      <td>1980-10-01</td>\n",
       "      <td>16.0</td>\n",
       "      <td>64.0</td>\n",
       "      <td>256.0</td>\n",
       "      <td>0.0</td>\n",
       "      <td>10.731863</td>\n",
       "      <td>0.078270</td>\n",
       "      <td>NaN</td>\n",
       "      <td>NaN</td>\n",
       "      <td>NaN</td>\n",
       "      <td>NaN</td>\n",
       "      <td>NaN</td>\n",
       "      <td>NaN</td>\n",
       "    </tr>\n",
       "    <tr>\n",
       "      <th>4</th>\n",
       "      <td>39025.875000</td>\n",
       "      <td>5</td>\n",
       "      <td>1981-01-01</td>\n",
       "      <td>25.0</td>\n",
       "      <td>125.0</td>\n",
       "      <td>625.0</td>\n",
       "      <td>0.0</td>\n",
       "      <td>10.571980</td>\n",
       "      <td>-0.159883</td>\n",
       "      <td>0.070825</td>\n",
       "      <td>0.039805</td>\n",
       "      <td>0.040342</td>\n",
       "      <td>0.040108</td>\n",
       "      <td>0.040288</td>\n",
       "      <td>0.040001</td>\n",
       "    </tr>\n",
       "    <tr>\n",
       "      <th>5</th>\n",
       "      <td>45857.886719</td>\n",
       "      <td>6</td>\n",
       "      <td>1981-04-01</td>\n",
       "      <td>36.0</td>\n",
       "      <td>216.0</td>\n",
       "      <td>1296.0</td>\n",
       "      <td>0.0</td>\n",
       "      <td>10.733302</td>\n",
       "      <td>0.161322</td>\n",
       "      <td>0.061975</td>\n",
       "      <td>-0.000413</td>\n",
       "      <td>-0.000400</td>\n",
       "      <td>-0.000375</td>\n",
       "      <td>-0.000403</td>\n",
       "      <td>-0.001416</td>\n",
       "    </tr>\n",
       "    <tr>\n",
       "      <th>6</th>\n",
       "      <td>45002.691406</td>\n",
       "      <td>7</td>\n",
       "      <td>1981-07-01</td>\n",
       "      <td>49.0</td>\n",
       "      <td>343.0</td>\n",
       "      <td>2401.0</td>\n",
       "      <td>0.0</td>\n",
       "      <td>10.714478</td>\n",
       "      <td>-0.018825</td>\n",
       "      <td>0.060884</td>\n",
       "      <td>0.005470</td>\n",
       "      <td>0.012344</td>\n",
       "      <td>0.011152</td>\n",
       "      <td>0.012312</td>\n",
       "      <td>0.011027</td>\n",
       "    </tr>\n",
       "    <tr>\n",
       "      <th>7</th>\n",
       "      <td>47014.550781</td>\n",
       "      <td>8</td>\n",
       "      <td>1981-10-01</td>\n",
       "      <td>64.0</td>\n",
       "      <td>512.0</td>\n",
       "      <td>4096.0</td>\n",
       "      <td>0.0</td>\n",
       "      <td>10.758212</td>\n",
       "      <td>0.043735</td>\n",
       "      <td>0.026349</td>\n",
       "      <td>-0.028205</td>\n",
       "      <td>-0.024865</td>\n",
       "      <td>-0.028837</td>\n",
       "      <td>-0.024136</td>\n",
       "      <td>-0.024000</td>\n",
       "    </tr>\n",
       "    <tr>\n",
       "      <th>8</th>\n",
       "      <td>40474.847656</td>\n",
       "      <td>9</td>\n",
       "      <td>1982-01-01</td>\n",
       "      <td>81.0</td>\n",
       "      <td>729.0</td>\n",
       "      <td>6561.0</td>\n",
       "      <td>0.0</td>\n",
       "      <td>10.608436</td>\n",
       "      <td>-0.149776</td>\n",
       "      <td>0.036456</td>\n",
       "      <td>0.009117</td>\n",
       "      <td>0.024148</td>\n",
       "      <td>0.024413</td>\n",
       "      <td>0.021605</td>\n",
       "      <td>0.023691</td>\n",
       "    </tr>\n",
       "    <tr>\n",
       "      <th>9</th>\n",
       "      <td>46211.089844</td>\n",
       "      <td>10</td>\n",
       "      <td>1982-04-01</td>\n",
       "      <td>100.0</td>\n",
       "      <td>1000.0</td>\n",
       "      <td>10000.0</td>\n",
       "      <td>0.0</td>\n",
       "      <td>10.740975</td>\n",
       "      <td>0.132539</td>\n",
       "      <td>0.007673</td>\n",
       "      <td>-0.027631</td>\n",
       "      <td>-0.031453</td>\n",
       "      <td>-0.040267</td>\n",
       "      <td>-0.030254</td>\n",
       "      <td>-0.030797</td>\n",
       "    </tr>\n",
       "  </tbody>\n",
       "</table>\n",
       "</div>"
      ],
      "text/plain": [
       "            pbi   t       time     t2      t3       t4    y       lpbi  \\\n",
       "0  36357.476562   1 1980-01-01    1.0     1.0      1.0  0.0  10.501155   \n",
       "1  43102.109375   2 1980-04-01    4.0     8.0     16.0  0.0  10.671328   \n",
       "2  42344.484375   3 1980-07-01    9.0    27.0     81.0  0.0  10.653593   \n",
       "3  45791.929688   4 1980-10-01   16.0    64.0    256.0  0.0  10.731863   \n",
       "4  39025.875000   5 1981-01-01   25.0   125.0    625.0  0.0  10.571980   \n",
       "5  45857.886719   6 1981-04-01   36.0   216.0   1296.0  0.0  10.733302   \n",
       "6  45002.691406   7 1981-07-01   49.0   343.0   2401.0  0.0  10.714478   \n",
       "7  47014.550781   8 1981-10-01   64.0   512.0   4096.0  0.0  10.758212   \n",
       "8  40474.847656   9 1982-01-01   81.0   729.0   6561.0  0.0  10.608436   \n",
       "9  46211.089844  10 1982-04-01  100.0  1000.0  10000.0  0.0  10.740975   \n",
       "\n",
       "      dlpbi    dlpbi4   res_ar1   res_ar2  res_arma11  res_ar124ma1  \\\n",
       "0       NaN       NaN       NaN       NaN         NaN           NaN   \n",
       "1  0.170172       NaN       NaN       NaN         NaN           NaN   \n",
       "2 -0.017734       NaN       NaN       NaN         NaN           NaN   \n",
       "3  0.078270       NaN       NaN       NaN         NaN           NaN   \n",
       "4 -0.159883  0.070825  0.039805  0.040342    0.040108      0.040288   \n",
       "5  0.161322  0.061975 -0.000413 -0.000400   -0.000375     -0.000403   \n",
       "6 -0.018825  0.060884  0.005470  0.012344    0.011152      0.012312   \n",
       "7  0.043735  0.026349 -0.028205 -0.024865   -0.028837     -0.024136   \n",
       "8 -0.149776  0.036456  0.009117  0.024148    0.024413      0.021605   \n",
       "9  0.132539  0.007673 -0.027631 -0.031453   -0.040267     -0.030254   \n",
       "\n",
       "   res_ar12ma4  \n",
       "0          NaN  \n",
       "1          NaN  \n",
       "2          NaN  \n",
       "3          NaN  \n",
       "4     0.040001  \n",
       "5    -0.001416  \n",
       "6     0.011027  \n",
       "7    -0.024000  \n",
       "8     0.023691  \n",
       "9    -0.030797  "
      ]
     },
     "execution_count": 3,
     "metadata": {},
     "output_type": "execute_result"
    }
   ],
   "source": [
    "pbiq_nu = pd.read_stata('/home/alvin/Desktop/Python/pbiQ.dta')\n",
    "\n",
    "pbiq = pbiq_nu['pbi']\n",
    "pbiq.index = pbiq_nu.time\n",
    "pbiq_nu.head(10)"
   ]
  },
  {
   "cell_type": "code",
   "execution_count": 4,
   "metadata": {},
   "outputs": [
    {
     "data": {
      "text/html": [
       "<div>\n",
       "<style scoped>\n",
       "    .dataframe tbody tr th:only-of-type {\n",
       "        vertical-align: middle;\n",
       "    }\n",
       "\n",
       "    .dataframe tbody tr th {\n",
       "        vertical-align: top;\n",
       "    }\n",
       "\n",
       "    .dataframe thead th {\n",
       "        text-align: right;\n",
       "    }\n",
       "</style>\n",
       "<table border=\"1\" class=\"dataframe\">\n",
       "  <thead>\n",
       "    <tr style=\"text-align: right;\">\n",
       "      <th></th>\n",
       "      <th>pbi</th>\n",
       "    </tr>\n",
       "    <tr>\n",
       "      <th>time</th>\n",
       "      <th></th>\n",
       "    </tr>\n",
       "  </thead>\n",
       "  <tbody>\n",
       "    <tr>\n",
       "      <th>1980-01-01</th>\n",
       "      <td>36357.476562</td>\n",
       "    </tr>\n",
       "    <tr>\n",
       "      <th>1980-04-01</th>\n",
       "      <td>43102.109375</td>\n",
       "    </tr>\n",
       "    <tr>\n",
       "      <th>1980-07-01</th>\n",
       "      <td>42344.484375</td>\n",
       "    </tr>\n",
       "    <tr>\n",
       "      <th>1980-10-01</th>\n",
       "      <td>45791.929688</td>\n",
       "    </tr>\n",
       "    <tr>\n",
       "      <th>1981-01-01</th>\n",
       "      <td>39025.875000</td>\n",
       "    </tr>\n",
       "    <tr>\n",
       "      <th>...</th>\n",
       "      <td>...</td>\n",
       "    </tr>\n",
       "    <tr>\n",
       "      <th>2018-10-01</th>\n",
       "      <td>141136.390625</td>\n",
       "    </tr>\n",
       "    <tr>\n",
       "      <th>2019-01-01</th>\n",
       "      <td>127434.750000</td>\n",
       "    </tr>\n",
       "    <tr>\n",
       "      <th>2019-04-01</th>\n",
       "      <td>137351.812500</td>\n",
       "    </tr>\n",
       "    <tr>\n",
       "      <th>2019-07-01</th>\n",
       "      <td>138165.281250</td>\n",
       "    </tr>\n",
       "    <tr>\n",
       "      <th>2019-10-01</th>\n",
       "      <td>143698.531250</td>\n",
       "    </tr>\n",
       "  </tbody>\n",
       "</table>\n",
       "<p>160 rows × 1 columns</p>\n",
       "</div>"
      ],
      "text/plain": [
       "                      pbi\n",
       "time                     \n",
       "1980-01-01   36357.476562\n",
       "1980-04-01   43102.109375\n",
       "1980-07-01   42344.484375\n",
       "1980-10-01   45791.929688\n",
       "1981-01-01   39025.875000\n",
       "...                   ...\n",
       "2018-10-01  141136.390625\n",
       "2019-01-01  127434.750000\n",
       "2019-04-01  137351.812500\n",
       "2019-07-01  138165.281250\n",
       "2019-10-01  143698.531250\n",
       "\n",
       "[160 rows x 1 columns]"
      ]
     },
     "execution_count": 4,
     "metadata": {},
     "output_type": "execute_result"
    }
   ],
   "source": [
    "pbiq = pd.DataFrame(pbiq)\n",
    "pbiq"
   ]
  },
  {
   "cell_type": "code",
   "execution_count": 5,
   "metadata": {},
   "outputs": [
    {
     "data": {
      "image/png": "[encoded data removed]",
      "text/plain": [
       "<Figure size 432x288 with 1 Axes>"
      ]
     },
     "metadata": {
      "needs_background": "light"
     },
     "output_type": "display_data"
    }
   ],
   "source": [
    "plt.plot(pbiq);\n",
    "# Vemos un comportamiento de estacionalidad\n",
    "# los periodos se van repitiendo haciendo ciclos"
   ]
  },
  {
   "cell_type": "code",
   "execution_count": 6,
   "metadata": {},
   "outputs": [],
   "source": [
    "pbiq['pbiq_log'] = np.log(pbiq)"
   ]
  },
  {
   "cell_type": "code",
   "execution_count": 7,
   "metadata": {},
   "outputs": [],
   "source": [
    "pbiq['pbiq_log_diff'] = pbiq.pbiq_log - pbiq.pbiq_log.shift(periods=4)"
   ]
  },
  {
   "cell_type": "code",
   "execution_count": 8,
   "metadata": {},
   "outputs": [
    {
     "data": {
      "text/html": [
       "<div>\n",
       "<style scoped>\n",
       "    .dataframe tbody tr th:only-of-type {\n",
       "        vertical-align: middle;\n",
       "    }\n",
       "\n",
       "    .dataframe tbody tr th {\n",
       "        vertical-align: top;\n",
       "    }\n",
       "\n",
       "    .dataframe thead th {\n",
       "        text-align: right;\n",
       "    }\n",
       "</style>\n",
       "<table border=\"1\" class=\"dataframe\">\n",
       "  <thead>\n",
       "    <tr style=\"text-align: right;\">\n",
       "      <th></th>\n",
       "      <th>pbi</th>\n",
       "      <th>pbiq_log</th>\n",
       "      <th>pbiq_log_diff</th>\n",
       "    </tr>\n",
       "    <tr>\n",
       "      <th>time</th>\n",
       "      <th></th>\n",
       "      <th></th>\n",
       "      <th></th>\n",
       "    </tr>\n",
       "  </thead>\n",
       "  <tbody>\n",
       "    <tr>\n",
       "      <th>1980-01-01</th>\n",
       "      <td>36357.476562</td>\n",
       "      <td>10.501155</td>\n",
       "      <td>NaN</td>\n",
       "    </tr>\n",
       "    <tr>\n",
       "      <th>1980-04-01</th>\n",
       "      <td>43102.109375</td>\n",
       "      <td>10.671328</td>\n",
       "      <td>NaN</td>\n",
       "    </tr>\n",
       "    <tr>\n",
       "      <th>1980-07-01</th>\n",
       "      <td>42344.484375</td>\n",
       "      <td>10.653593</td>\n",
       "      <td>NaN</td>\n",
       "    </tr>\n",
       "    <tr>\n",
       "      <th>1980-10-01</th>\n",
       "      <td>45791.929688</td>\n",
       "      <td>10.731863</td>\n",
       "      <td>NaN</td>\n",
       "    </tr>\n",
       "    <tr>\n",
       "      <th>1981-01-01</th>\n",
       "      <td>39025.875000</td>\n",
       "      <td>10.571980</td>\n",
       "      <td>0.070826</td>\n",
       "    </tr>\n",
       "    <tr>\n",
       "      <th>...</th>\n",
       "      <td>...</td>\n",
       "      <td>...</td>\n",
       "      <td>...</td>\n",
       "    </tr>\n",
       "    <tr>\n",
       "      <th>2018-10-01</th>\n",
       "      <td>141136.390625</td>\n",
       "      <td>11.857482</td>\n",
       "      <td>0.045386</td>\n",
       "    </tr>\n",
       "    <tr>\n",
       "      <th>2019-01-01</th>\n",
       "      <td>127434.750000</td>\n",
       "      <td>11.755360</td>\n",
       "      <td>0.024156</td>\n",
       "    </tr>\n",
       "    <tr>\n",
       "      <th>2019-04-01</th>\n",
       "      <td>137351.812500</td>\n",
       "      <td>11.830301</td>\n",
       "      <td>0.011887</td>\n",
       "    </tr>\n",
       "    <tr>\n",
       "      <th>2019-07-01</th>\n",
       "      <td>138165.281250</td>\n",
       "      <td>11.836205</td>\n",
       "      <td>0.031923</td>\n",
       "    </tr>\n",
       "    <tr>\n",
       "      <th>2019-10-01</th>\n",
       "      <td>143698.531250</td>\n",
       "      <td>11.875473</td>\n",
       "      <td>0.017991</td>\n",
       "    </tr>\n",
       "  </tbody>\n",
       "</table>\n",
       "<p>160 rows × 3 columns</p>\n",
       "</div>"
      ],
      "text/plain": [
       "                      pbi   pbiq_log  pbiq_log_diff\n",
       "time                                               \n",
       "1980-01-01   36357.476562  10.501155            NaN\n",
       "1980-04-01   43102.109375  10.671328            NaN\n",
       "1980-07-01   42344.484375  10.653593            NaN\n",
       "1980-10-01   45791.929688  10.731863            NaN\n",
       "1981-01-01   39025.875000  10.571980       0.070826\n",
       "...                   ...        ...            ...\n",
       "2018-10-01  141136.390625  11.857482       0.045386\n",
       "2019-01-01  127434.750000  11.755360       0.024156\n",
       "2019-04-01  137351.812500  11.830301       0.011887\n",
       "2019-07-01  138165.281250  11.836205       0.031923\n",
       "2019-10-01  143698.531250  11.875473       0.017991\n",
       "\n",
       "[160 rows x 3 columns]"
      ]
     },
     "execution_count": 8,
     "metadata": {},
     "output_type": "execute_result"
    }
   ],
   "source": [
    "pbiq"
   ]
  },
  {
   "cell_type": "code",
   "execution_count": 9,
   "metadata": {},
   "outputs": [
    {
     "data": {
      "image/png": "[encoded data removed]",
      "text/plain": [
       "<Figure size 432x288 with 1 Axes>"
      ]
     },
     "metadata": {
      "needs_background": "light"
     },
     "output_type": "display_data"
    }
   ],
   "source": [
    "plt.plot(pbiq.pbiq_log_diff.dropna());"
   ]
  },
  {
   "cell_type": "code",
   "execution_count": 10,
   "metadata": {},
   "outputs": [
    {
     "data": {
      "text/plain": [
       "(156,)"
      ]
     },
     "execution_count": 10,
     "metadata": {},
     "output_type": "execute_result"
    }
   ],
   "source": [
    "pbiq.pbiq_log_diff.dropna().shape"
   ]
  },
  {
   "cell_type": "code",
   "execution_count": 11,
   "metadata": {},
   "outputs": [],
   "source": [
    "a = sm.tsa.stattools.acf(pbiq.pbiq_log_diff.dropna(), fft=False)\n",
    "b = sm.tsa.stattools.pacf(pbiq.pbiq_log_diff.dropna())"
   ]
  },
  {
   "cell_type": "code",
   "execution_count": 12,
   "metadata": {},
   "outputs": [
    {
     "data": {
      "image/png": "[encoded data removed]",
      "text/plain": [
       "<Figure size 864x288 with 2 Axes>"
      ]
     },
     "metadata": {
      "needs_background": "light"
     },
     "output_type": "display_data"
    }
   ],
   "source": [
    "fig,(ax1,ax2) = plt.subplots(1,2,figsize=(12,4))\n",
    "\n",
    "# ACF chart\n",
    "fig = sm.graphics.tsa.plot_acf(pbiq.pbiq_log_diff.dropna(), ax=ax1)\n",
    "# PACF chart\n",
    "fig = sm.graphics.tsa.plot_pacf(pbiq.pbiq_log_diff.dropna(), ax=ax2)\n",
    "# ignorar el primero"
   ]
  },
  {
   "cell_type": "code",
   "execution_count": 17,
   "metadata": {},
   "outputs": [
    {
     "name": "stdout",
     "output_type": "stream",
     "text": [
      "                              ARMA Model Results                              \n",
      "==============================================================================\n",
      "Dep. Variable:          pbiq_log_diff   No. Observations:                  156\n",
      "Model:                     ARMA(2, 0)   Log Likelihood                 293.752\n",
      "Method:                       css-mle   S.D. of innovations              0.037\n",
      "Date:                Sun, 31 May 2020   AIC                           -579.504\n",
      "Time:                        07:33:52   BIC                           -567.305\n",
      "Sample:                    01-01-1981   HQIC                          -574.550\n",
      "                         - 10-01-2019                                         \n",
      "=======================================================================================\n",
      "                          coef    std err          z      P>|z|      [0.025      0.975]\n",
      "---------------------------------------------------------------------------------------\n",
      "const                   0.0305      0.010      3.157      0.002       0.012       0.049\n",
      "ar.L1.pbiq_log_diff     1.1405      0.071     16.018      0.000       1.001       1.280\n",
      "ar.L2.pbiq_log_diff    -0.4427      0.071     -6.233      0.000      -0.582      -0.304\n",
      "                                    Roots                                    \n",
      "=============================================================================\n",
      "                  Real          Imaginary           Modulus         Frequency\n",
      "-----------------------------------------------------------------------------\n",
      "AR.1            1.2881           -0.7743j            1.5029           -0.0861\n",
      "AR.2            1.2881           +0.7743j            1.5029            0.0861\n",
      "-----------------------------------------------------------------------------\n"
     ]
    },
    {
     "name": "stderr",
     "output_type": "stream",
     "text": [
      "/home/alvin/.local/lib/python3.8/site-packages/statsmodels/tsa/base/tsa_model.py:159: ValueWarning: No frequency information was provided, so inferred frequency QS-OCT will be used.\n",
      "  warnings.warn('No frequency information was'\n"
     ]
    }
   ],
   "source": [
    "from statsmodels.tsa.arima_model import ARMA\n",
    "mod = ARMA(pbiq.pbiq_log_diff.dropna(), order=(2,0))\n",
    "result = mod.fit()\n",
    "print(result.summary())"
   ]
  },
  {
   "cell_type": "code",
   "execution_count": null,
   "metadata": {},
   "outputs": [],
   "source": []
  },
  {
   "cell_type": "code",
   "execution_count": null,
   "metadata": {},
   "outputs": [],
   "source": []
  },
  {
   "cell_type": "code",
   "execution_count": 90,
   "metadata": {},
   "outputs": [
    {
     "data": {
      "image/png": "[encoded data removed]",
      "text/plain": [
       "<Figure size 864x288 with 2 Axes>"
      ]
     },
     "metadata": {
      "needs_background": "light"
     },
     "output_type": "display_data"
    }
   ],
   "source": [
    "# Gráfica de los residuos\n",
    "fig,(ax1,ax2) = plt.subplots(1,2,figsize=(12,4))\n",
    "\n",
    "# ACF chart\n",
    "fig = sm.graphics.tsa.plot_acf(result.resid.dropna(), ax=ax1)\n",
    "# PACF chart\n",
    "fig = sm.graphics.tsa.plot_pacf(result.resid.dropna(), ax=ax2)\n",
    "# ignorar el primero"
   ]
  },
  {
   "cell_type": "markdown",
   "metadata": {},
   "source": [
    "# Podemos concluir que el modelo tiene un comportamiento ARMA(2,0), pero enrealidad es un proceso AR(2) MA(0001)"
   ]
  },
  {
   "cell_type": "code",
   "execution_count": null,
   "metadata": {},
   "outputs": [],
   "source": []
  },
  {
   "cell_type": "code",
   "execution_count": null,
   "metadata": {},
   "outputs": [],
   "source": []
  },
  {
   "cell_type": "code",
   "execution_count": null,
   "metadata": {},
   "outputs": [],
   "source": []
  },
  {
   "cell_type": "code",
   "execution_count": null,
   "metadata": {},
   "outputs": [],
   "source": []
  }
 ],
 "metadata": {
  "kernelspec": {
   "display_name": "Python 3",
   "language": "python",
   "name": "python3"
  },
  "language_info": {
   "codemirror_mode": {
    "name": "ipython",
    "version": 3
   },
   "file_extension": ".py",
   "mimetype": "text/x-python",
   "name": "python",
   "nbconvert_exporter": "python",
   "pygments_lexer": "ipython3",
   "version": "3.8.2"
  }
 },
 "nbformat": 4,
 "nbformat_minor": 4
}
